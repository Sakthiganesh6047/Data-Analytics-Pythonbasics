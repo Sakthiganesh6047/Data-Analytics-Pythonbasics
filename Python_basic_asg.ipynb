{
  "nbformat": 4,
  "nbformat_minor": 0,
  "metadata": {
    "colab": {
      "provenance": [],
      "authorship_tag": "ABX9TyMgxFRrpCkOCU57OBexDOrt",
      "include_colab_link": true
    },
    "kernelspec": {
      "name": "python3",
      "display_name": "Python 3"
    },
    "language_info": {
      "name": "python"
    }
  },
  "cells": [
    {
      "cell_type": "markdown",
      "metadata": {
        "id": "view-in-github",
        "colab_type": "text"
      },
      "source": [
        "<a href=\"https://colab.research.google.com/github/Sakthiganesh6047/Data-Analytics-Pythonbasics/blob/main/Python_basic_asg.ipynb\" target=\"_parent\"><img src=\"https://colab.research.google.com/assets/colab-badge.svg\" alt=\"Open In Colab\"/></a>"
      ]
    },
    {
      "cell_type": "code",
      "execution_count": null,
      "metadata": {
        "colab": {
          "base_uri": "https://localhost:8080/"
        },
        "id": "LESwsbR8VQn1",
        "outputId": "56ed7e04-9353-412b-ee75-2d90a0bdaecb"
      },
      "outputs": [
        {
          "output_type": "stream",
          "name": "stdout",
          "text": [
            "102\n",
            "98\n",
            "200\n",
            "50.0\n",
            "50\n"
          ]
        }
      ],
      "source": [
        "a = 100\n",
        "b = 2\n",
        "\n",
        "# Add\n",
        "print(a + b)\n",
        "\n",
        "# Sub\n",
        "print(a - b)\n",
        "\n",
        "# Multiply\n",
        "print(a * b)\n",
        "\n",
        "# Divide\n",
        "print(a / b)\n",
        "\n",
        "# Floor division\n",
        "print(a // b)"
      ]
    },
    {
      "cell_type": "code",
      "source": [
        "# Increment operation\n",
        "i = 1\n",
        "while i < 10:\n",
        "  print(i)\n",
        "  i += 1"
      ],
      "metadata": {
        "colab": {
          "base_uri": "https://localhost:8080/"
        },
        "id": "92uxny5DXZGQ",
        "outputId": "02b620de-803f-4dc0-89d7-03b34b372a66"
      },
      "execution_count": null,
      "outputs": [
        {
          "output_type": "stream",
          "name": "stdout",
          "text": [
            "1\n",
            "2\n",
            "3\n",
            "4\n",
            "5\n",
            "6\n",
            "7\n",
            "8\n",
            "9\n"
          ]
        }
      ]
    },
    {
      "cell_type": "code",
      "source": [
        "i = 1\n",
        "while i < 10:\n",
        "  print(i)\n",
        "  if i == 5:\n",
        "    break\n",
        "  i += 1"
      ],
      "metadata": {
        "colab": {
          "base_uri": "https://localhost:8080/"
        },
        "id": "xspNYk-PXh0v",
        "outputId": "74d118d9-b385-4d00-cba3-1233ed070646"
      },
      "execution_count": null,
      "outputs": [
        {
          "output_type": "stream",
          "name": "stdout",
          "text": [
            "1\n",
            "2\n",
            "3\n",
            "4\n",
            "5\n"
          ]
        }
      ]
    },
    {
      "cell_type": "code",
      "source": [
        "# Sets\n",
        "set1 = {1, 2, 3}\n",
        "print(\"Set1:\", set1)\n",
        "\n",
        "print(\"First element:\", set1.pop())\n",
        "print(\"Set1:\", set1)\n",
        "\n",
        "set1.add(4)\n",
        "print(\"Set1:\", set1)\n",
        "\n",
        "set1.remove(3)\n",
        "print(\"Set1:\", set1)\n",
        "\n",
        "set2 = {3, 4, 5, 6, 7}\n",
        "print(\"Set1 U Set2:\", set1 | set2)\n",
        "\n",
        "print(\"Set1 n Set2:\", set1 & set2)\n",
        "\n",
        "print(\"Set1 - Set2:\", set1 - set2)\n",
        "\n"
      ],
      "metadata": {
        "colab": {
          "base_uri": "https://localhost:8080/"
        },
        "id": "mb9x5eAfYGaJ",
        "outputId": "f9b7924b-33e6-4257-a361-9e343441db94"
      },
      "execution_count": null,
      "outputs": [
        {
          "output_type": "stream",
          "name": "stdout",
          "text": [
            "Set1: {1, 2, 3}\n",
            "First element: 1\n",
            "Set1: {2, 3}\n",
            "Set1: {2, 3, 4}\n",
            "Set1: {2, 4}\n",
            "Set1 U Set2: {2, 3, 4, 5, 6, 7}\n",
            "Set1 n Set2: {4}\n",
            "Set1 - Set2: {2}\n"
          ]
        }
      ]
    },
    {
      "cell_type": "code",
      "source": [
        "# Types\n",
        "a = 10\n",
        "print(\"Type of a:\", type(a))\n",
        "\n",
        "b = \"Hello World\"\n",
        "print(\"Type of b:\", type(b))\n",
        "\n",
        "c = True\n",
        "print(\"Type of c:\", type(c))\n",
        "\n",
        "d = 10.245\n",
        "print(\"Type of d:\", type(d))"
      ],
      "metadata": {
        "colab": {
          "base_uri": "https://localhost:8080/"
        },
        "id": "WCZ_sz_ZYb7x",
        "outputId": "df6ec32b-6b0f-4411-8354-43af7bc205ed"
      },
      "execution_count": null,
      "outputs": [
        {
          "output_type": "stream",
          "name": "stdout",
          "text": [
            "Type of a: <class 'int'>\n",
            "Type of b: <class 'str'>\n",
            "Type of c: <class 'bool'>\n",
            "Type of d: <class 'float'>\n"
          ]
        }
      ]
    },
    {
      "cell_type": "code",
      "source": [
        "# List and Tuples\n",
        "list1 = [1, 2, 3, 4, 5]\n",
        "print(\"List1:\", list1)\n",
        "\n",
        "tuple1 = (6, 7, 8, 9, 10)\n",
        "print(\"Tuple1:\", tuple1)"
      ],
      "metadata": {
        "colab": {
          "base_uri": "https://localhost:8080/"
        },
        "id": "fMqK8jT4YnWI",
        "outputId": "82f97e1c-4c46-4663-c4e9-5bf34108c1c9"
      },
      "execution_count": null,
      "outputs": [
        {
          "output_type": "stream",
          "name": "stdout",
          "text": [
            "List1: [1, 2, 3, 4, 5]\n",
            "Tuple1: (6, 7, 8, 9, 10)\n"
          ]
        }
      ]
    },
    {
      "cell_type": "code",
      "source": [
        "Alphabets = [\"a\", \"b\", \"c\", \"d\", \"e\"]\n",
        "for x in Alphabets:\n",
        "  print(x)\n",
        "  if x == \"c\":\n",
        "    break"
      ],
      "metadata": {
        "colab": {
          "base_uri": "https://localhost:8080/"
        },
        "id": "RX7pKk7BY1rX",
        "outputId": "263ee284-567e-4a5d-b348-ae9dd8c40194"
      },
      "execution_count": null,
      "outputs": [
        {
          "output_type": "stream",
          "name": "stdout",
          "text": [
            "a\n",
            "b\n",
            "c\n"
          ]
        }
      ]
    },
    {
      "cell_type": "code",
      "source": [
        "Myname = \"Sakthiganesh\"\n",
        "print(Myname[2:-3])"
      ],
      "metadata": {
        "colab": {
          "base_uri": "https://localhost:8080/"
        },
        "id": "aSgx_5SGZS-K",
        "outputId": "760292e2-33f2-47b0-ee4e-ed5a87b18da3"
      },
      "execution_count": null,
      "outputs": [
        {
          "output_type": "stream",
          "name": "stdout",
          "text": [
            "kthigan\n"
          ]
        }
      ]
    }
  ]
}